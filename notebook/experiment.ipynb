{
 "cells": [
  {
   "cell_type": "code",
   "execution_count": null,
   "id": "4ff1df74",
   "metadata": {},
   "outputs": [
    {
     "name": "stdout",
     "output_type": "stream",
     "text": [
      "MLflow Tracking URI set to: http://localhost:5555/ (from .env)\n",
      "Loaded Dataset\n"
     ]
    },
    {
     "name": "stderr",
     "output_type": "stream",
     "text": [
      "2025/07/14 12:44:35 INFO mlflow.tracking.fluent: Autologging successfully enabled for lightgbm.\n",
      "2025/07/14 12:44:35 INFO mlflow.tracking.fluent: Autologging successfully enabled for sklearn.\n",
      "2025/07/14 12:44:35 INFO mlflow.tracking.fluent: Autologging successfully enabled for xgboost.\n",
      "2025/07/14 12:44:35 WARNING mlflow.spark: With Pyspark >= 3.2, PYSPARK_PIN_THREAD environment variable must be set to false for Spark datasource autologging to work.\n",
      "2025/07/14 12:44:35 INFO mlflow.tracking.fluent: Autologging successfully enabled for pyspark.\n"
     ]
    },
    {
     "name": "stdout",
     "output_type": "stream",
     "text": [
      "'tuple' object has no attribute '__name__'\n",
      "Invalid Classifier(s)\n"
     ]
    },
    {
     "data": {
      "application/vnd.jupyter.widget-view+json": {
       "model_id": "07d0ebedb4cb4239a7321652c198e92d",
       "version_major": 2,
       "version_minor": 0
      },
      "text/plain": [
       "  0%|          | 0/5 [00:00<?, ?it/s]"
      ]
     },
     "metadata": {},
     "output_type": "display_data"
    },
    {
     "name": "stdout",
     "output_type": "stream",
     "text": [
      "🏃 View run LazyClassifier-SelfTrainingClassifier at: http://localhost:5555/#/experiments/362376687284450068/runs/01bb90d3c68c47de92c299e0bf6fc063\n",
      "🧪 View experiment at: http://localhost:5555/#/experiments/362376687284450068\n",
      "🏃 View run LazyClassifier-StackingClassifier at: http://localhost:5555/#/experiments/362376687284450068/runs/67f737d5a25a46188872afdd55a280ab\n",
      "🧪 View experiment at: http://localhost:5555/#/experiments/362376687284450068\n",
      "🏃 View run LazyClassifier-TunedThresholdClassifierCV at: http://localhost:5555/#/experiments/362376687284450068/runs/3d6343efb072495d8abcaaf05ade8b89\n",
      "🧪 View experiment at: http://localhost:5555/#/experiments/362376687284450068\n"
     ]
    },
    {
     "name": "stderr",
     "output_type": "stream",
     "text": [
      "2025/07/14 12:47:15 WARNING mlflow.utils.environment: Failed to resolve installed pip version. ``pip`` will be added to conda.yaml environment spec without a version specifier.\n",
      "2025/07/14 12:49:22 WARNING mlflow.models.model: `artifact_path` is deprecated. Please use `name` instead.\n",
      "2025/07/14 12:49:25 WARNING mlflow.utils.environment: Failed to resolve installed pip version. ``pip`` will be added to conda.yaml environment spec without a version specifier.\n",
      "Successfully registered model 'lazy_classifier_XGBClassifier'.\n",
      "2025/07/14 12:49:25 INFO mlflow.store.model_registry.abstract_store: Waiting up to 300 seconds for model version to finish creation. Model name: lazy_classifier_XGBClassifier, version 1\n",
      "Created version '1' of model 'lazy_classifier_XGBClassifier'.\n"
     ]
    },
    {
     "name": "stdout",
     "output_type": "stream",
     "text": [
      "🏃 View run LazyClassifier-XGBClassifier at: http://localhost:5555/#/experiments/362376687284450068/runs/761fa6841751431ea06c95c53c33e76f\n",
      "🧪 View experiment at: http://localhost:5555/#/experiments/362376687284450068\n",
      "[LightGBM] [Info] Auto-choosing row-wise multi-threading, the overhead of testing was 0.062699 seconds.\n",
      "You can set `force_row_wise=true` to remove the overhead.\n",
      "And if memory is not enough, you can set `force_col_wise=true`.\n",
      "[LightGBM] [Info] Total Bins 367\n",
      "[LightGBM] [Info] Number of data points in the train set: 9637319, number of used features: 6\n",
      "[LightGBM] [Info] Start training from score -2.753146\n",
      "[LightGBM] [Info] Start training from score -3.550002\n",
      "[LightGBM] [Info] Start training from score -1.662801\n",
      "[LightGBM] [Info] Start training from score -6.510903\n",
      "[LightGBM] [Info] Start training from score -0.791746\n",
      "[LightGBM] [Info] Start training from score -1.334078\n"
     ]
    },
    {
     "name": "stderr",
     "output_type": "stream",
     "text": [
      "2025/07/14 12:50:50 WARNING mlflow.utils.environment: Failed to resolve installed pip version. ``pip`` will be added to conda.yaml environment spec without a version specifier.\n",
      "2025/07/14 12:54:31 WARNING mlflow.models.model: `artifact_path` is deprecated. Please use `name` instead.\n",
      "2025/07/14 12:54:34 WARNING mlflow.utils.environment: Failed to resolve installed pip version. ``pip`` will be added to conda.yaml environment spec without a version specifier.\n",
      "Successfully registered model 'lazy_classifier_LGBMClassifier'.\n",
      "2025/07/14 12:54:34 INFO mlflow.store.model_registry.abstract_store: Waiting up to 300 seconds for model version to finish creation. Model name: lazy_classifier_LGBMClassifier, version 1\n",
      "Created version '1' of model 'lazy_classifier_LGBMClassifier'.\n"
     ]
    },
    {
     "name": "stdout",
     "output_type": "stream",
     "text": [
      "🏃 View run LazyClassifier-LGBMClassifier at: http://localhost:5555/#/experiments/362376687284450068/runs/fd958b2c9c84468aaf55e47a3bed29b1\n",
      "🧪 View experiment at: http://localhost:5555/#/experiments/362376687284450068\n",
      "\n",
      "--- LazyPredict Results ---\n",
      "                Accuracy  Balanced Accuracy ROC AUC  F1 Score  Time Taken\n",
      "Model                                                                    \n",
      "XGBClassifier       0.72               0.44    None      0.69      267.44\n",
      "LGBMClassifier      0.71               0.42    None      0.68      309.08\n",
      "\n",
      "Results have been logged to your MLflow Tracking Server at http://localhost:5555/\n"
     ]
    }
   ],
   "source": [
    "import pandas as pd\n",
    "import pandas as pd\n",
    "from lazypredict.Supervised import LazyClassifier, CLASSIFIERS\n",
    "from sklearn.model_selection import train_test_split\n",
    "import mlflow\n",
    "from dotenv import load_dotenv \n",
    "import os \n",
    "\n",
    "load_dotenv()\n",
    "\n",
    "mlflow_tracking_uri = os.getenv(\"MLFLOW_TRACKING_URI\")\n",
    "\n",
    "if mlflow_tracking_uri:\n",
    "    mlflow.set_tracking_uri(mlflow_tracking_uri)\n",
    "    print(f\"MLflow Tracking URI set to: {mlflow.get_tracking_uri()} (from .env)\")\n",
    "else:\n",
    "    print(\"MLFLOW_TRACKING_URI not found in .env or environment variables. Please set it.\")\n",
    "\n",
    "# Set an experiment name to group your runs\n",
    "mlflow.set_experiment(\"Reaction Outcome\")\n",
    "\n",
    "print(\"Loaded Dataset\")\n",
    "df = pd.read_parquet(\"../data/fd_train_df.parquet\")\n",
    "\n",
    "X = df.drop(columns=[\"reaction_outcome\"])\n",
    "y = df[\"reaction_outcome\"].astype(int)\n",
    "\n",
    "X_train, X_test, y_train, y_test = train_test_split(\n",
    "    X, y, test_size=0.2, random_state=42, stratify=df[\"reaction_outcome\"]\n",
    ")\n",
    "\n",
    "# Define models to exclude\n",
    "# exclude_models = [\n",
    "#     \"ExtraTreesClassifier\",\n",
    "#     \"BernoulliNB\",\n",
    "#     \"CalibratedClassifierCV\",\n",
    "#     \"GaussianNB\",\n",
    "#     \"DummyClassifier\",\n",
    "#     \"KNeighborsClassifier\",\n",
    "#     \"FixedThresholdClassifier\",  # This is not in sklearn, might be a custom one\n",
    "#     \"CategoricalNB\"\n",
    "# ]\n",
    "\n",
    "exclude_models = [\n",
    "    \"RandomForestClassifier\",\n",
    "    \"DecisionTreeClassifier\",\n",
    "    \"BaggingClassifier\",\n",
    "    \"ExtraTreesClassifier\",\n",
    "    \"ExtraTreeClassifier\",\n",
    "    \"AdaBoostClassifier\",\n",
    "    \"BernoulliNB\",\n",
    "    \"QuadraticDiscriminantAnalysis\",\n",
    "    \"LinearDiscriminantAnalysis\",\n",
    "    \"CalibratedClassifierCV\",\n",
    "    \"SGDClassifier\",\n",
    "    \"LogisticRegression\",\n",
    "    \"LinearSVC\",\n",
    "    \"GaussianNB\",\n",
    "    \"RidgeClassifierCV\",\n",
    "    \"RidgeClassifier\",\n",
    "    \"NearestCentroid\",\n",
    "    \"Perceptron\",\n",
    "    \"PassiveAggressiveClassifier\",\n",
    "    \"DummyClassifier\",\n",
    "    \"SVC\",\n",
    "    \"NuSVC\",\n",
    "    \"LabelSpreading\",\n",
    "    \"LabelPropagation\",\n",
    "    \"KNeighborsClassifier\",\n",
    "    \"FixedThresholdClassifier\",\n",
    "    \"CategoricalNB\"\n",
    "]\n",
    "\n",
    "\n",
    "\n",
    "custom_classifiers = [c for c in CLASSIFIERS if c[0] not in exclude_models]\n",
    "\n",
    "\n",
    "# Initialize LazyClassifier\n",
    "clf = LazyClassifier(\n",
    "    verbose=0,\n",
    "    ignore_warnings=True,\n",
    "    custom_metric=None,\n",
    "    predictions=False,\n",
    "    random_state=42,\n",
    "    classifiers = custom_classifiers\n",
    ")\n",
    "\n",
    "try:\n",
    "    models, predictions = clf.fit(X_train, X_test, y_train, y_test)\n",
    "except Exception as e:\n",
    "    print(\"Error occurred:\", e)\n",
    "\n",
    "print(\"\\n--- LazyPredict Results ---\")\n",
    "print(models)\n",
    "print(f\"\\nResults have been logged to your MLflow Tracking Server at {mlflow.get_tracking_uri()}\")"
   ]
  },
  {
   "cell_type": "code",
   "execution_count": null,
   "id": "409e8dcb",
   "metadata": {},
   "outputs": [],
   "source": []
  }
 ],
 "metadata": {
  "kernelspec": {
   "display_name": "Med",
   "language": "python",
   "name": "python3"
  },
  "language_info": {
   "codemirror_mode": {
    "name": "ipython",
    "version": 3
   },
   "file_extension": ".py",
   "mimetype": "text/x-python",
   "name": "python",
   "nbconvert_exporter": "python",
   "pygments_lexer": "ipython3",
   "version": "3.12.9"
  }
 },
 "nbformat": 4,
 "nbformat_minor": 5
}
