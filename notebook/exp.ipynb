{
 "cells": [
  {
   "cell_type": "code",
   "execution_count": 1,
   "id": "2882c560",
   "metadata": {},
   "outputs": [],
   "source": [
    "import os \n",
    "import gc\n",
    "import yaml\n",
    "from dotenv import load_dotenv\n",
    "import pandas as pd\n",
    "import numpy as np\n",
    "import mlflow\n",
    "from sklearn.tree import DecisionTreeClassifier, ExtraTreeClassifier\n",
    "from sklearn.ensemble import BaggingClassifier\n",
    "from xgboost import XGBClassifier\n",
    "from lightgbm import LGBMClassifier\n",
    "from sklearn.metrics import f1_score, precision_score, recall_score\n",
    "from skopt import BayesSearchCV\n",
    "from skopt.space import Real, Integer\n",
    "from contextlib import nullcontext\n",
    "from sklearn.model_selection import StratifiedKFold\n",
    "import logging"
   ]
  },
  {
   "cell_type": "code",
   "execution_count": 2,
   "id": "353e665e",
   "metadata": {},
   "outputs": [],
   "source": [
    "# Setup\n",
    "load_dotenv()\n",
    "logging.basicConfig(level=logging.INFO)\n",
    "logger = logging.getLogger()\n",
    "\n",
    "mlflow_tracking_uri = os.getenv(\"MLFLOW_TRACKING_URI\")\n",
    "if mlflow_tracking_uri:\n",
    "    mlflow.set_tracking_uri(mlflow_tracking_uri)"
   ]
  },
  {
   "cell_type": "code",
   "execution_count": 3,
   "id": "b0996f1a",
   "metadata": {},
   "outputs": [
    {
     "data": {
      "text/plain": [
       "40"
      ]
     },
     "execution_count": 3,
     "metadata": {},
     "output_type": "execute_result"
    }
   ],
   "source": [
    "# Load data\n",
    "df_train = pd.read_parquet(\"../data/fd_train_df.parquet\")\n",
    "df_val = pd.read_parquet(\"../data/fd_val_df.parquet\")\n",
    "\n",
    "X_train = df_train.drop(columns=[\"reaction_outcome\"])\n",
    "y_train = df_train[\"reaction_outcome\"].astype(int)\n",
    "\n",
    "X_val = df_val.drop(columns=[\"reaction_outcome\"])\n",
    "y_val = df_val[\"reaction_outcome\"].astype(int)\n",
    "del df_train; del df_val; gc.collect()"
   ]
  },
  {
   "cell_type": "code",
   "execution_count": null,
   "id": "af217dd9",
   "metadata": {},
   "outputs": [],
   "source": [
    "# Define models\n",
    "# models = {\n",
    "#     'DecisionTree': DecisionTreeClassifier(),\n",
    "#     'ExtraTree': ExtraTreeClassifier(),\n",
    "#     'Bagging': BaggingClassifier(),\n",
    "#     'XGB': XGBClassifier(eval_metric='mlogloss', use_label_encoder=False, verbosity=0),\n",
    "#     'LGBM': LGBMClassifier(),\n",
    "# }\n",
    "\n",
    "models = {\n",
    "    # 'DecisionTree': DecisionTreeClassifier(),\n",
    "    'XGB': XGBClassifier(eval_metric='mlogloss', use_label_encoder=False, verbosity=0),\n",
    "    'LGBM': LGBMClassifier(),\n",
    "}\n",
    "\n",
    "# Define hyperparameter spaces\n",
    "model_grids = {\n",
    "    # 'DecisionTree': {\n",
    "    #     'max_depth': Integer(3, 20),\n",
    "    #     'min_samples_split': Integer(2, 20)\n",
    "    # },\n",
    "    # 'ExtraTree': {\n",
    "    #     'max_depth': Integer(3, 20),\n",
    "    #     'min_samples_split': Integer(2, 20)\n",
    "    # },\n",
    "    # 'Bagging': {\n",
    "    #     'n_estimators': Integer(10, 100),\n",
    "    #     'max_samples': Real(0.5, 1.0)\n",
    "    # },\n",
    "    'XGB': {\n",
    "        'n_estimators': Integer(50, 200),\n",
    "        'max_depth': Integer(3, 10),\n",
    "        'learning_rate': Real(0.01, 0.3, prior='log-uniform')\n",
    "    },\n",
    "    'LGBM': {\n",
    "        'n_estimators': Integer(50, 200),\n",
    "        'max_depth': Integer(3, 10),\n",
    "        'learning_rate': Real(0.01, 0.3, prior='log-uniform')\n",
    "    }\n",
    "}"
   ]
  },
  {
   "cell_type": "code",
   "execution_count": null,
   "id": "34e77ba5",
   "metadata": {},
   "outputs": [
    {
     "name": "stderr",
     "output_type": "stream",
     "text": [
      "INFO:root:Tuning and evaluating DecisionTree...\n"
     ]
    }
   ],
   "source": [
    "# Evaluate and tune\n",
    "results = {}\n",
    "cv = StratifiedKFold(n_splits=5, shuffle=True, random_state=42)\n",
    "\n",
    "with mlflow.start_run(run_name=\"model_comparison\") if mlflow_tracking_uri else nullcontext():\n",
    "    for name, model in models.items():\n",
    "        logger.info(f\"Tuning and evaluating {name}...\")\n",
    "        search = BayesSearchCV(\n",
    "            estimator=model,\n",
    "            search_spaces=model_grids[name],\n",
    "            n_iter=25,\n",
    "            cv=cv,\n",
    "            scoring='f1_weighted',\n",
    "            n_jobs=-1,\n",
    "            random_state=42\n",
    "        )\n",
    "\n",
    "        with mlflow.start_run(run_name=name, nested=True) if mlflow_tracking_uri else nullcontext():\n",
    "            search.fit(X_train, y_train)\n",
    "            best_model = search.best_estimator_\n",
    "\n",
    "            # Evaluate on validation set\n",
    "            preds = best_model.predict(X_val)\n",
    "            f1 = f1_score(y_val, preds, average='weighted')\n",
    "            precision = precision_score(y_val, preds, average='weighted')\n",
    "            recall = recall_score(y_val, preds, average='weighted')\n",
    "\n",
    "            results[name] = {\n",
    "                'model': best_model,\n",
    "                'params': search.best_params_,\n",
    "                'f1': f1,\n",
    "                'precision': precision,\n",
    "                'recall': recall\n",
    "            }\n",
    "\n",
    "            if mlflow_tracking_uri:\n",
    "                mlflow.log_params(search.best_params_)\n",
    "                mlflow.log_metrics({\n",
    "                    'f1': f1,\n",
    "                    'precision': precision,\n",
    "                    'recall': recall\n",
    "                })\n",
    "                mlflow.sklearn.log_model(best_model, artifact_path=name.lower())\n",
    "\n",
    "            print(f\"{name} F1: {f1:.4f}, Precision: {precision:.4f}, Recall: {recall:.4f}\")"
   ]
  },
  {
   "cell_type": "code",
   "execution_count": null,
   "id": "6e390291",
   "metadata": {},
   "outputs": [],
   "source": [
    "# Save best model config\n",
    "\n",
    "best_model_name = max(results, key=lambda x: results[x]['f1'])\n",
    "best_model = results[best_model_name]['model']\n",
    "best_params = best_model.get_params()\n",
    "best_f1 = float(results[best_model_name]['f1'])\n",
    "best_precision = float(results[best_model_name]['precision'])\n",
    "best_recall = float(results[best_model_name]['recall'])\n",
    "\n",
    "print(f\"\\n🏆 Best Model: {best_model_name}\")\n",
    "print(f\"   F1 Score: {best_f1:.4f}\")\n",
    "print(f\"   Precision: {best_precision:.4f}\")\n",
    "print(f\"   Recall: {best_recall:.4f}\")\n",
    "\n",
    "selected_features_dict = {\n",
    "    \"features\": list(X_train.columns)\n",
    "}\n",
    "\n",
    "model_config = {\n",
    "    'model': {\n",
    "        'name': 'reaction_outcome_classifier',\n",
    "        'best_model': best_model_name,\n",
    "        'parameters': best_params,\n",
    "        'f1_score': best_f1,\n",
    "        'precision': best_precision,\n",
    "        'recall': best_recall,\n",
    "        'target_variable': 'reaction_outcome',\n",
    "        'feature_sets': selected_features_dict\n",
    "    }\n",
    "}\n",
    "\n",
    "config_path = '../configs/model_config.yaml'\n",
    "os.makedirs(os.path.dirname(config_path), exist_ok=True)\n",
    "with open(config_path, 'w') as f:\n",
    "    yaml.dump(model_config, f)\n",
    "\n",
    "print(f\"\\n Saved model config to {config_path}\")"
   ]
  },
  {
   "cell_type": "code",
   "execution_count": null,
   "id": "ab7b2848",
   "metadata": {},
   "outputs": [],
   "source": []
  }
 ],
 "metadata": {
  "kernelspec": {
   "display_name": "Med",
   "language": "python",
   "name": "python3"
  },
  "language_info": {
   "codemirror_mode": {
    "name": "ipython",
    "version": 3
   },
   "file_extension": ".py",
   "mimetype": "text/x-python",
   "name": "python",
   "nbconvert_exporter": "python",
   "pygments_lexer": "ipython3",
   "version": "3.12.9"
  }
 },
 "nbformat": 4,
 "nbformat_minor": 5
}
